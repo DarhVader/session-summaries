{
 "cells": [
  {
   "cell_type": "markdown",
   "metadata": {},
   "source": [
    "In this session we want to experiment with extracting data from a website by using an [API](https://cloud.google.com/endpoints/docs/openapi/when-why-api-key) (application programming interface) key. \n",
    "<br>\n",
    "A great example of this is finding out how many Brisbane citycycle bikes are available and where they are located.\n",
    "<br>\n",
    "You need a personal API key to get dynamic data (because bike availability may change at any second).\n",
    "<br>\n",
    "So, first you need to register with https://developer.jcdecaux.com to get an api key."
   ]
  },
  {
   "cell_type": "markdown",
   "metadata": {},
   "source": [
    "Next, we need to import the [JSON](https://docs.python.org/3.7/library/json.html?highlight=json#json.dump) package and the urlopen function from [urllib.request](https://docs.python.org/3.7/library/urllib.request.html#module-urllib.request) module.\n",
    "<br>\n",
    "[JSON](https://www.json.org/) (JavaScript Object Notation) \"is a lightweight data-interchange format, based on a subset of the JavaScript Programming Language\".\n",
    "<br>\n",
    "For now, all you need to know is that it is syntax that allows you to store and exchange data (the backend of this document is in JSON). \n",
    "<br>\n",
    "If you are curious, there is a gentle introduction to using JSON in python [here](https://realpython.com/python-json/)."
   ]
  },
  {
   "cell_type": "markdown",
   "metadata": {},
   "source": [
    "(Please run the following python cells in sequential order or it will not work!)"
   ]
  },
  {
   "cell_type": "code",
   "execution_count": null,
   "metadata": {},
   "outputs": [],
   "source": [
    "import json\n",
    "from urllib.request import urlopen"
   ]
  },
  {
   "cell_type": "code",
   "execution_count": null,
   "metadata": {},
   "outputs": [],
   "source": [
    "api_key =input('paste your api_key here')"
   ]
  },
  {
   "cell_type": "code",
   "execution_count": null,
   "metadata": {},
   "outputs": [],
   "source": [
    "print(api_key)"
   ]
  },
  {
   "cell_type": "code",
   "execution_count": null,
   "metadata": {},
   "outputs": [],
   "source": [
    "contract_name = 'Brisbane'\n",
    "\n",
    "url_station_list='https://api.jcdecaux.com/vls/v1/stations?contract={contract_name}&apiKey={api_key}'\n",
    "\n",
    "response = urlopen(url_station_list.format(contract_name=contract_name, api_key=api_key))\n",
    "\n",
    "station_list = json.load(response)"
   ]
  },
  {
   "cell_type": "markdown",
   "metadata": {},
   "source": [
    "Next, you want to look at the [real-time data](https://developer.jcdecaux.com/#/opendata/vls?page=dynamic) by printing it."
   ]
  },
  {
   "cell_type": "code",
   "execution_count": null,
   "metadata": {},
   "outputs": [],
   "source": [
    "print(station_list)"
   ]
  },
  {
   "cell_type": "markdown",
   "metadata": {},
   "source": [
    "Since this is hard to read, we can reformat the results using the command:"
   ]
  },
  {
   "cell_type": "code",
   "execution_count": null,
   "metadata": {},
   "outputs": [],
   "source": [
    "print(json.dumps(station_list,indent=4,sort_keys=True))"
   ]
  },
  {
   "cell_type": "markdown",
   "metadata": {},
   "source": [
    "It should look something like this:\n",
    "<br>\n",
    "<br>\n",
    "![station_list](https://raw.githubusercontent.com/anniequasar/session-summaries/master/resources/img/station_list_example_output.png)"
   ]
  },
  {
   "cell_type": "markdown",
   "metadata": {},
   "source": [
    "### Now the challlenge is to write a piece of code to:\n",
    "    + find  where the station with the most available bikes are\n",
    "    + and find out how many bikes are available at that station\n",
    "<br>\n",
    "<br>\n",
    "I encourage you to think about this and really try before looking at the citycycle.py file or solution below.\n",
    "<br>\n",
    "<br>\n",
    "<br>\n",
    "<br>\n",
    "<br>"
   ]
  },
  {
   "cell_type": "markdown",
   "metadata": {},
   "source": [
    "There are many ways of completing this challenging and Tim has provided one way of doing it.\n",
    "<br>"
   ]
  },
  {
   "cell_type": "markdown",
   "metadata": {},
   "source": [
    "With some help (thanks Sam), I have decided to do something else, but it is also an *if statement* inside a *for loop*.\n",
    "<br>\n",
    "First, I made the variable most_bikes = zero as I want to replace it with the highest number every time python goes through each entry in the list of stations."
   ]
  },
  {
   "cell_type": "code",
   "execution_count": null,
   "metadata": {},
   "outputs": [],
   "source": [
    "most_bikes = 0"
   ]
  },
  {
   "cell_type": "markdown",
   "metadata": {},
   "source": [
    "Next the for loop in the format\n",
    "<br>\n",
    "    for item in list:"
   ]
  },
  {
   "cell_type": "code",
   "execution_count": null,
   "metadata": {},
   "outputs": [],
   "source": [
    "for station in station_list:\n",
    "    if station['available_bikes'] > most_bikes:\n",
    "        most_bikes = station[\"available_bikes\"]\n",
    "        most_station = station"
   ]
  },
  {
   "cell_type": "markdown",
   "metadata": {},
   "source": [
    "What is going on in this *if statement* ?\n",
    "<br>\n",
    "In the first entry of the station list, I have told python that if the number of available bikes is greater than 0 \n",
    "<br>\n",
    "then store this new value into my variable most_bikes\n",
    "<br>\n",
    "Now most_bikes after one entry will be a number e.g., 7.\n",
    "<br>\n",
    "Then I have applied the same principle to each station by making a new variable called most_station.\n",
    "<br>\n",
    "I am now telling python to store the station entry that has the value with the most bikes.\n",
    "<br>\n",
    "<br>\n",
    "**Confused?**\n",
    "<br>\n",
    "<br>\n",
    "Imagine this:\n",
    "<br>\n",
    "         Station A = 7\n",
    "<br>\n",
    "         Station B = 12\n",
    "<br>\n",
    "         Station C = 4\n",
    "<br>\n",
    "         Station D = 31\n",
    "<br>\n",
    "         Station E = 0\n",
    "<br>"
   ]
  },
  {
   "cell_type": "markdown",
   "metadata": {},
   "source": [
    "Now every time that python goes down one entry it checks to see if the value of available bikes is higher than the previous, if it is, then most_bikes is replaced by the higher number, if not, then most_bikes remains unchanged.\n",
    "<br>\n",
    "Since most_bikes is = 31, the station is Station D.\n",
    "<br>\n",
    "I want to make the station with the most available bikes, which in this case is Station D, equal to the variable most_station."
   ]
  },
  {
   "cell_type": "markdown",
   "metadata": {},
   "source": [
    "To print the results we use the print command:"
   ]
  },
  {
   "cell_type": "code",
   "execution_count": null,
   "metadata": {},
   "outputs": [],
   "source": [
    "print(most_station)"
   ]
  },
  {
   "cell_type": "markdown",
   "metadata": {},
   "source": [
    "Again, we can reformat the results to make it more legible to a human using the command:"
   ]
  },
  {
   "cell_type": "code",
   "execution_count": null,
   "metadata": {},
   "outputs": [],
   "source": [
    "print(json.dumps(most_station,indent=4,sort_keys=True))"
   ]
  }
 ],
 "metadata": {
  "kernelspec": {
   "display_name": "Python 3",
   "language": "python",
   "name": "python3"
  },
  "language_info": {
   "codemirror_mode": {
    "name": "ipython",
    "version": 3
   },
   "file_extension": ".py",
   "mimetype": "text/x-python",
   "name": "python",
   "nbconvert_exporter": "python",
   "pygments_lexer": "ipython3",
   "version": "3.7.1"
  }
 },
 "nbformat": 4,
 "nbformat_minor": 2
}
