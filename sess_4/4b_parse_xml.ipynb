{
 "cells": [
  {
   "cell_type": "markdown",
   "metadata": {},
   "source": [
    "# Parse XML\n",
    "\n",
    "@author: Tim Cummings"
    "\n",
    "\n",
    "This example will parse an XML file obtained from http://au.freepg.tv to find all television programs crediting \n",
    "an actor with names ending in smith, Smith or Whitney.\n",
    "\n",
    "1. Register for EPG feed at http://au.freepg.tv/Register.aspx\n",
    "2. You will get a url sent to you in email http://au.freepg.tv/xmltv/oztivo/QLD.Brisbane.gz?UID=...&K=...\n",
    "3. Load in web browser and then save as plain text (unzipped) file QLD.Brisbane.xml in same directory as the python program.\n",
    "4. Change first line from ```<?xml version=\"1.0\" encoding=\"ISO-8859-1\"?>``` to ```<?xml version=\"1.0\" encoding=\"UTF-8\"?>```\n",
    "5. Install third party packages ```pip install beautifulsoup4 lxml```\n",
    "\n",
    "The data in the xml has the following format\n",
    "\n",
    "```xml\n",
    "   <programme start=\"20190112163000 +0000\" stop=\"20190112170000 +0000\" channel=\"7TWO\">\n",
    "     <title>Sydney Weekender</title>\n",
    "     <desc>Features restaurant reviews, accommodation deals, great ideas for travelling around NSW.</desc>\n",
    "     <credits>\n",
    "       <actor>Mike Whitney</actor>\n",
    "     </credits>\n",
    "     <category>Magazine</category>\n",
    "     <category>Arts and Living</category>\n",
    "     <subtitles type=\"teletext\" />\n",
    "     <rating><value>G</value></rating>\n",
    "     <star-rating>\n",
    "       <value>0/10</value>\n",
    "     </star-rating>\n",
    "   </programme>\n",
    "```"
   ]
  },
  {
   "cell_type": "code",
   "execution_count": 4,
   "metadata": {},
   "outputs": [
    {
     "name": "stdout",
     "output_type": "stream",
     "text": [
      "Mike Whitney : Sydney Weekender : Channel 7TWO : Time 02:30 Sun 13-Jan-2019 AEST\n",
      "Mike Whitney : Sydney Weekender : Channel 7TWO : Time 15:00 Mon 14-Jan-2019 AEST\n",
      "Yeardley Smith : The Simpsons : Channel 7mate : Time 19:30 Wed 16-Jan-2019 AEST\n",
      "Yeardley Smith : The Simpsons : Channel 7mate : Time 20:00 Wed 16-Jan-2019 AEST\n",
      "Yeardley Smith : The Simpsons : Channel 7mate : Time 16:00 Thu 17-Jan-2019 AEST\n",
      "Yeardley Smith : The Simpsons : Channel 7mate : Time 16:30 Thu 17-Jan-2019 AEST\n",
      "Yeardley Smith : The Simpsons : Channel 7mate : Time 19:30 Thu 17-Jan-2019 AEST\n",
      "Yeardley Smith : The Simpsons : Channel 7mate : Time 20:00 Thu 17-Jan-2019 AEST\n",
      "Yeardley Smith : The Simpsons : Channel 7mate : Time 04:00 Fri 18-Jan-2019 AEST\n",
      "Yeardley Smith : The Simpsons : Channel 7mate : Time 16:00 Fri 18-Jan-2019 AEST\n",
      "Yeardley Smith : The Simpsons : Channel 7HD : Time 19:30 Wed 16-Jan-2019 AEST\n",
      "Yeardley Smith : The Simpsons : Channel 7HD : Time 20:00 Wed 16-Jan-2019 AEST\n",
      "Yeardley Smith : The Simpsons : Channel 7HD : Time 16:00 Thu 17-Jan-2019 AEST\n",
      "Yeardley Smith : The Simpsons : Channel 7HD : Time 16:30 Thu 17-Jan-2019 AEST\n",
      "Yeardley Smith : The Simpsons : Channel 7HD : Time 19:30 Thu 17-Jan-2019 AEST\n",
      "Yeardley Smith : The Simpsons : Channel 7HD : Time 20:00 Thu 17-Jan-2019 AEST\n",
      "Yeardley Smith : The Simpsons : Channel 7HD : Time 04:00 Fri 18-Jan-2019 AEST\n",
      "Yeardley Smith : The Simpsons : Channel 7HD : Time 16:00 Fri 18-Jan-2019 AEST\n",
      "Deanne Smith : Comedy Up Late : Channel ABC2 : Time 21:48 Sat 19-Jan-2019 AEST\n",
      "Shawnee Smith : Becker : Channel Eleven : Time 15:00 Mon 14-Jan-2019 AEST\n",
      "Kerr Smith : Dawson's Creek : Channel GO : Time 10:00 Mon 14-Jan-2019 AEST\n",
      "Kerr Smith : Dawson's Creek : Channel GO : Time 10:00 Tue 15-Jan-2019 AEST\n",
      "Kerr Smith : Dawson's Creek : Channel GO : Time 10:00 Wed 16-Jan-2019 AEST\n",
      "Kerr Smith : Dawson's Creek : Channel GO : Time 10:00 Thu 17-Jan-2019 AEST\n",
      "Kerr Smith : Dawson's Creek : Channel GO : Time 10:00 Fri 18-Jan-2019 AEST\n",
      "Meagan Smith : Ben 10 : Channel GO : Time 17:00 Sat 19-Jan-2019 AEST\n",
      "Meagan Smith : Ben 10 : Channel GO : Time 17:30 Sat 19-Jan-2019 AEST\n",
      "Jada Pinkett Smith : Collateral : Channel GO : Time 21:00 Sun 20-Jan-2019 AEST\n",
      "Kris Smith : The Daily Edition : Channel Seven : Time 14:00 Mon 14-Jan-2019 AEST\n",
      "Kris Smith : The Daily Edition : Channel Seven : Time 14:00 Tue 15-Jan-2019 AEST\n",
      "Kris Smith : The Daily Edition : Channel Seven : Time 14:00 Wed 16-Jan-2019 AEST\n"
     ]
    }
   ],
   "source": [
    "from bs4 import BeautifulSoup\n",
    "import re\n",
    "import datetime\n",
    "\n",
    "# Load xml into soup and parse using the xml parser from lxml\n",
    "# using 'with' when opening files ensures file gets automatically closed immediately after it is finished with\n",
    "\n",
    "with open(\"QLD.Brisbane.xml\") as file:\n",
    "    soup = BeautifulSoup(file, features=\"xml\")\n",
    "\n",
    "# Find all xml tags called <actor> which have a string which ends in 'Smith' or 'smith' or 'Whitney'\n",
    "my_list = soup(\"actor\", string=re.compile(\"([Ss]mith|Whitney)$\"))\n",
    "\n",
    "for actor in my_list:\n",
    "    # Navigate to <programme> tag. <actor>.parent = <credits>, <credits>.parent = <programme>\n",
    "    prog = actor.parent.parent\n",
    "    # Convert date time string to human readable form (Brisbane time) by parsing, changing timezone, and then formatting\n",
    "    start_time_utc = datetime.datetime.strptime(prog[\"start\"], \"%Y%m%d%H%M%S %z\")\n",
    "    start_time_aest = start_time_utc.astimezone(datetime.timezone(datetime.timedelta(hours=10)))\n",
    "    start_time_str = start_time_aest.strftime(\"%H:%M %a %d-%b-%Y AEST\")\n",
    "    # Print channel and time for all shows using an actor with name of Smith or smith or Whitney\n",
    "    print(actor.string, \":\", prog.title.string, \": Channel\", prog[\"channel\"], \": Time\", start_time_str)\n"
   ]
  },
  {
   "cell_type": "code",
   "execution_count": null,
   "metadata": {},
   "outputs": [],
   "source": []
  }
 ],
 "metadata": {
  "kernelspec": {
   "display_name": "Python 3",
   "language": "python",
   "name": "python3"
  },
  "language_info": {
   "codemirror_mode": {
    "name": "ipython",
    "version": 3
   },
   "file_extension": ".py",
   "mimetype": "text/x-python",
   "name": "python",
   "nbconvert_exporter": "python",
   "pygments_lexer": "ipython3",
   "version": "3.7.1"
  }
 },
 "nbformat": 4,
 "nbformat_minor": 2
}
