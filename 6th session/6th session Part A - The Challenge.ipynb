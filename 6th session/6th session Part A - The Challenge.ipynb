{
 "cells": [
  {
   "cell_type": "markdown",
   "metadata": {},
   "source": [
    "This week we want to practice how to approach a problem and mastering *for loops*\n",
    "<br>\n",
    "<br>\n",
    "First you will need to download the data file **run_results.csv** in #learning-to-code.\n",
    "<br>\n",
    "<br>\n",
    "In your IDE, you need to import Python's default csv module called *csv*"
   ]
  },
  {
   "cell_type": "code",
   "execution_count": null,
   "metadata": {},
   "outputs": [],
   "source": [
    "import csv"
   ]
  },
  {
   "cell_type": "markdown",
   "metadata": {},
   "source": [
    "The documentation for the [csv module](https://docs.python.org/3/library/csv.html) can be found [here](https://docs.python.org/3/library/csv.html)."
   ]
  },
  {
   "cell_type": "markdown",
   "metadata": {},
   "source": [
    "From that webpage, you will find that the simplest example of reading a CSV file is:\n",
    "\n",
    "        with open('your.csv', newline='') as your_file_name:\n",
    "            reader = csv.reader(your_file_name)\n",
    "            for row in reader:\n",
    "                print(row)\n",
    "<br>\n",
    "So we will import and read our csv file in python using the following command: "
   ]
  },
  {
   "cell_type": "code",
   "execution_count": null,
   "metadata": {},
   "outputs": [],
   "source": [
    "with open('run_results.csv',mode='r') as csv_file:\n",
    "    csv_reader = csv.reader(csv_file,delimiter = ',', quotechar = '\"', quoting=csv.QUOTE_NONNUMERIC)\n",
    "    for row in csv_reader:\n",
    "        print(row)"
   ]
  },
  {
   "cell_type": "markdown",
   "metadata": {},
   "source": [
    "Remember the format:\n",
    "<br>\n",
    "<br>\n",
    "variable = value\n",
    "<br>\n",
    "<br>\n",
    "Here we have created a **variable** called csv_reader then called on the **function** csv.reader\n",
    "<br>\n",
    "<br>\n",
    "mode = r means to read (as opposed to mode = w which is to write).\n",
    "<br>\n",
    "The delimiter is set to commas i.e., commas are used to separate between values.\n",
    "<br>\n",
    "csv.QUOTE_NONNUMERIC function instructs the reader to convert all non-quoted fields to type float.\n",
    "<br>\n",
    "<br>\n",
    "Remember the format of a *for loop* is:\n",
    "<br>\n",
    "            \n",
    "            for item in object:\n",
    "                execute this command\n",
    "<br>\n",
    "So hopefully, you now have a list in your python console that looks like this:\n",
    "<br>\n",
    "\n",
    "            ['race', 'runner', 'time']\n",
    "            ['2019-01-28', 'Annie', 1521.0]\n",
    "            ['2019-01-28', 'Bennie', 1596.0]\n",
    "            ['2019-01-28', 'Can', 1752.0]\n",
    "            ['2019-01-28', 'David', 1740.0]\n",
    "            ['2019-01-28', 'Jeen', 1687.0]\n",
    "            ['2019-01-28', 'Liran', 1760.0]\n",
    "            ['2019-01-28', 'Nikki', 1525.0]\n",
    "            ['2019-01-28', 'Sam', 1707.0]\n",
    "<br>"
   ]
  },
  {
   "cell_type": "markdown",
   "metadata": {},
   "source": [
    "## The challenge is to find out:\n",
    " 1. who won each race ?\n",
    " 2. what is each runner's fastest time ?\n",
   ]
  }
 ],
 "metadata": {
  "kernelspec": {
   "display_name": "Python 3",
   "language": "python",
   "name": "python3"
  },
  "language_info": {
   "codemirror_mode": {
    "name": "ipython",
    "version": 3
   },
   "file_extension": ".py",
   "mimetype": "text/x-python",
   "name": "python",
   "nbconvert_exporter": "python",
   "pygments_lexer": "ipython3",
   "version": "3.7.1"
  }
 },
 "nbformat": 4,
 "nbformat_minor": 2
}
