{
 "cells": [
  {
   "cell_type": "markdown",
   "metadata": {},
   "source": [
    "The first half of session 8 is on matching mathematical functions by using a *user-defined function* in Python.\n",
    "<br>\n",
    "### The Challenge \n",
    "**Find the perfect match between the functions\n",
    "<br>\n",
    "Put all five functions in a list\n",
    "<br>\n",
    "Loop through all possible permutations of 2 functions from 5\n",
    "<br>\n",
    "Find the best match at points x = 0, x = 1, x = 2 by summing the squares of the differences of the function values at the\n",
    "two points.**\n",
    "<br>\n",
    "<br>\n",
    "The functions are:"
   ]
  },
  {
   "cell_type": "code",
   "execution_count": 1,
   "metadata": {},
   "outputs": [],
   "source": [
    "import math\n",
    "\n",
    "def quadratic(x):\n",
    "    return 1 - (x - 1) ** 2\n",
    "\n",
    "def zero(x):\n",
    "    return 0\n",
    "\n",
    "def cubic(x):\n",
    "    return (x-1) * (x-2) * x\n",
    "\n",
    "def sine_wave(x):\n",
    "    return math.sin(x * math.pi / 2)\n",
    "\n",
    "def line(x):\n",
    "    return x"
   ]
  },
  {
   "cell_type": "markdown",
   "metadata": {},
   "source": [
    "Fear not, a mathematical function is simply a rule that takes the x-values you input to equate to a y-value as a result of passing through the function. \n",
    "<br>\n",
    "<br>\n",
    "You do not need to understand the mathematical functions to solve the challenge. \n",
    "<br>\n",
    "You only need to understand that there are five functions that behave in different ways.\n",
    "<br>\n",
    "When you enter a value x (on the horizontal axis) into the function, depending on the behaviour of the mathematical function, you get a single y-value (vertical axis) as an output.\n",
    "<br>\n",
    "<br>\n",
    "The aim is to write a *for loop* using the python built-in function *range* to iterate through your list to compare how similar (or different) they are to each other.\n",
    "<br>\n",
    "<br>\n",
    "<br>\n",
    "![Functions graphed:](https://raw.githubusercontent.com/anniequasar/session-summaries/master/resources/img/function.png)\n",
    "<br>\n",
    "<br>\n",
    "**The challenge is to find two functions that are most similar to each at x = 0, x = 1 x = 2**\n",
    "<br>\n",
    "and then to ensure that they are the best match, use more points when x = (0, 0.5, 1, 1.5, 2)\n",
    "<br>\n",
    "<br>\n",
    "That means, when x = 0, x = 1 and x = 2, which two functions produce y-values that are most similar to each other?\n",
    "<br>\n",
    "<br>\n",
    "Since nobody is the same as anybody else, neither are functions!\n",
    "<br>\n",
    "Hence, we could calculate the standard deviation (the standard deviation is a measure of how spread out numbers are) of the functions by using the sum of squares between two values:\n",
    "<br>\n",
    "<br>\n",
    "$Sum of Squares = ∑(x_{i} − x_{j})^2$\n",
    "<br>\n",
    "<br>\n",
    "So first start with a list with your functions in it.\n",
    "<br>\n",
    "Remember that the syntax for a list is\n",
    "        \n",
    "        name_of_list = [item1, item2, item3,...]\n",
    "        "
   ]
  },
  {
   "cell_type": "code",
   "execution_count": 2,
   "metadata": {},
   "outputs": [],
   "source": [
    "list_funcs = [quadratic, zero, cubic, sine_wave, line]"
   ]
  },
  {
   "cell_type": "markdown",
   "metadata": {},
   "source": [
    "Now create a for loop \n",
    "<br>\n",
    "Remember that the syntax for a *for loop* is\n",
    "\n",
    "        for item in list:\n",
    "            execute the following commands\n",
    "\n",
    "You are given the hint to use the [range function](https://docs.python.org/3.7/library/stdtypes.html#typesseq-range) in your *for loop*\n",
    "<br>\n",
    "Remember that the range function takes three arguments\n",
    "\n",
    "        range(start, stop[, step])\n",
    "<br>\n",
    "For example\n",
    "\n",
    "        range(3, 10, 2) = [ 3, 5, 7, 9 ]\n",
    "<br>\n",
    "the first argument is the start(inclusive), the second argument is the stop(exclusive), and the last argument is the number of values you want to step in.\n",
    "<br>\n",
    "<br>\n",
    "Combining the two and you get:"
   ]
  },
  {
   "cell_type": "code",
   "execution_count": 3,
   "metadata": {},
   "outputs": [
    {
     "name": "stdout",
     "output_type": "stream",
     "text": [
      "0\n",
      "1\n",
      "2\n",
      "3\n"
     ]
    }
   ],
   "source": [
    "for i in range(len(list_funcs) - 1):\n",
    "    print(i)"
   ]
  },
  {
   "cell_type": "markdown",
   "metadata": {},
   "source": [
    "[len](https://docs.python.org/3.7/library/functions.html#len) is a built-in function that returns the length of an object.\n",
    "<br>\n",
    "<br>\n",
    "range(len(list_funcs)-1) means the length of the object excluding the last item in that object, and the object specified is the list of functions.\n",
    "<br>\n",
    "<br>\n",
    "at index 0 in list_funcs is the *user-defined* function quadratic, at index 1 is the function zero and so forth..\n",
    "<br>\n",
    "now try to write some commands that will allow your loop to iterate through list_funcs and compare each item with each other using the sum of squares formula.\n",
    "<br>\n",
    "For example, it should look something like:\n",
    "<br>\n",
    "sum_of_squares = (fa(x) - fb(x)) ** 2\n",
    "<br>\n",
    "<br>\n",
    "Good luck & don't forget to have fun!"
   ]
  }
 ],
 "metadata": {
  "kernelspec": {
   "display_name": "Python 3",
   "language": "python",
   "name": "python3"
  },
  "language_info": {
   "codemirror_mode": {
    "name": "ipython",
    "version": 3
   },
   "file_extension": ".py",
   "mimetype": "text/x-python",
   "name": "python",
   "nbconvert_exporter": "python",
   "pygments_lexer": "ipython3",
   "version": "3.7.1"
  }
 },
 "nbformat": 4,
 "nbformat_minor": 2
}
