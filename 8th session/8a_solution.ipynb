{
 "cells": [
  {
   "cell_type": "markdown",
   "metadata": {},
   "source": [
    "Let's walk through the solution to the first half of the Valentine's Day challenge:\n",
    "<br>\n",
    "**Find the perfect match between the functions\n",
    "<br>\n",
    "Put all five functions in a list\n",
    "<br>\n",
    "Loop through all possible permutations of 2 functions from 5\n",
    "<br>\n",
    "Find the best match at points x = 0, x = 1, x = 2 by summing the squares of the differences of the function values at the\n",
    "two points.**\n",
    "<br>\n",
    "<br>\n",
    "We are given the following five *user-defined* functions:"
   ]
  },
  {
   "cell_type": "code",
   "execution_count": null,
   "metadata": {},
   "outputs": [],
   "source": [
    "import math\n",
    "\n",
    "def line(x):\n",
    "    return x\n",
    "\n",
    "def quadratic(x):\n",
    "    return 1 - (x - 1) ** 2\n",
    "\n",
    "def cubic(x):\n",
    "    return (x-1) * (x-2) * x\n",
    "\n",
    "def sine_wave(x):\n",
    "    return math.sin(x * math.pi / 2)\n",
    "\n",
    "def zero(x):\n",
    "    return 0"
   ]
  },
  {
   "cell_type": "markdown",
   "metadata": {},
   "source": [
    "In the 8a_challenge.ipynb you have been instructed to put the *user-defined* functions in a list\n",
    "<br>\n",
    "Remember that the syntax for a list is:\n",
    "\n",
    "    name_of_list = [item1, item2, item3,...]\n"
   ]
  },
  {
   "cell_type": "code",
   "execution_count": null,
   "metadata": {},
   "outputs": [],
   "source": [
    "list_funcs = [quadratic, zero, cubic, sine_wave, line]"
   ]
  },
  {
   "cell_type": "markdown",
   "metadata": {},
   "source": [
    "Furthermore you were also given a hint to use the *range* function inside a *for loop*\n",
    "<br>"
   ]
  },
  {
   "cell_type": "code",
   "execution_count": null,
   "metadata": {},
   "outputs": [],
   "source": [
    "for i in range(len(list_funcs) - 1):"
   ]
  },
  {
   "cell_type": "markdown",
   "metadata": {},
   "source": [
    "To calculate how different the functions are from each other (standard error/deviation), we have been instructed to use the Sum of Squares. A short but succint summary can be read [here](https://www.thoughtco.com/sum-of-squares-formula-shortcut-3126266).\n",
    "<br>\n",
    "The example of using sum of squares in python was given\n",
    "\n",
    "        ss = (fa(x) - fb(x)) ** 2\n",
    "\n",
    "Essentially, the sum of squares is taking the first function subtracted by the second function and squaring the difference.\n",
    "<br>\n",
    "So let us define the first function as i, whatever that may be, and the second function as j.\n",
    "\n",
    "        fa = list_funcs[i]\n",
    "        fb = list_funcs[j]\n",
    "\n",
    "Since we want the comparison of functions to be systematic, that means we want i to always be before j and we don't want j to compare anything with itself.\n",
    "<br>\n",
    "To iterate every function in a list, using i before j, we can create a for loop inside another for loop, aka. a *nested loop*.\n",
    "<br>\n",
    "<br>\n",
    "\n",
    "        for i in range(len(list_funcs) - 1):\n",
    "            fa = list_funcs[i]\n",
    "            for j in range(i + 1, len(list_funcs)):\n",
    "                fb = list_funcs[j]\n",
    "                \n",
    "Remember that indenting is very important in Python. \n",
    "<br>\n",
    "Just be consistent with whichever style you choose, either four spaces or one tab.\n",
    "<br>\n",
    "<br>\n",
    "In the above script, we see that inside the first for loop is a variable fa, and then inside this for loop is another for loop, and inside that is the variable fb.\n",
    "<br>\n",
    "<br> \n",
    "In the [nested loop](https://www.pythonforbeginners.com/loops/for-while-and-nested-loops-in-python/), we are telling every item in i to start with the first function, and then +1 (i.e., i will move onto the next function once it has itereated through the first loop.\n",
    "<br>\n",
    "Go back to session 3 on city cycles if you need a reminder of how a for loop iterates through a list.\n",
    "<br>\n",
    "<br>        \n",
    "we want the sum of squares to start at zero, to be replaced by a value calculated later, so make a variable for the sum of squares\n",
    "    \n",
    "        ss = 0\n",
    "        \n",
    "we want the x values on the x-axis to be 0, 0.5, 1, 1.5 and 2 in order to have as many value points as possible to compare against each other with to ensure we have the best match. Since we want the least amount of difference, this means we also want the smallest ss value, i.e., as close to zero as possible. Since it is a squared number, it cannot be a negative number.\n",
    "<br>\n",
    "<br>\n",
    "Once again, since we want python to go through each x value for each function, we need another for loop!\n",
    "<br>\n",
    "<br>\n",
    "\n",
    "        for x in (0, 0.5, 1, 1.5, 2):\n",
    "            ss += (fa(x) - fb(x)) ** 2\n",
    "        print(i, fa.__name__, j, fb.__name__, ss)\n",
    "        \n",
    "Inside this for loop, we want it to calculate the sum of squares value when it compares two functions and add it to the previous/initial value, which is 0.\n",
    "<br>\n",
    "We can use the print function to see i and j being compared by using the command variable.__name__, and the ss value\n",
    "<br>\n",
    "<br> \n",
    "Since we want the lowest ss or minimum ss, we need to create a variable to store the lowest ss value in it.\n",
    "<br>\n",
    "We can set this constant to [None](https://docs.python.org/3/library/constants.html) in the unlikely chance that there are two functions that have ss = 0.\n",
    "<br>\n",
    "        \n",
    "        min_ss = None\n",
    "\n",
    "Now we need to write an if statement that says if the min_ss is larger than the previous ss, then store this smaller value in min_ss. We also want the functions i and j that resulted in this min_ss value so we need a min_fa and min_fb as well.\n",
    "\n",
    "        if min_ss is None or min_ss > ss:\n",
    "            min_ss, min_fa, min_fb = ss, fa, fb\n",
    "\n",
    "We need to define the min_ss = None outside the entire for loop because if we define it inside the for loop, we will reset min_ss back to None every time we iterate through the if statement. And if we reset the min_ss to None every iteration, it will forget the previous minimum value of ss that we are trying to store.\n",
    "\n",
    "So putting it all together, it should look like this:"
   ]
  },
  {
   "cell_type": "code",
   "execution_count": null,
   "metadata": {},
   "outputs": [],
   "source": [
    "min_ss = None\n",
    "for i in range(len(list_funcs) - 1):\n",
    "    fa = list_funcs[i]\n",
    "    for j in range(i + 1, len(list_funcs)):\n",
    "        fb = list_funcs[j]\n",
    "        ss = 0\n",
    "        for x in (0, 0.5, 1, 1.5, 2):\n",
    "            ss += (fa(x) - fb(x)) ** 2\n",
    "        print(i, fa.__name__, j, fb.__name__, ss)\n",
    "        if min_ss is None or min_ss > ss:\n",
    "            min_ss, min_fa, min_fb = ss, fa, fb"
   ]
  },
  {
   "cell_type": "markdown",
   "metadata": {},
   "source": [
    "And now to print the results using the print() function:"
   ]
  },
  {
   "cell_type": "code",
   "execution_count": null,
   "metadata": {},
   "outputs": [],
   "source": [
    "print(\"Sum of squares between {} and {} is {}\".format(min_fa.__name__, min_fb.__name__, min_ss))"
   ]
  },
  {
   "cell_type": "markdown",
   "metadata": {},
   "source": [
    "Hopefully, your answer is: Sum of squares between quadratic and sine_wave is 0.0036796564403574184"
   ]
  }
 ],
 "metadata": {
  "kernelspec": {
   "display_name": "Python 3",
   "language": "python",
   "name": "python3"
  },
  "language_info": {
   "codemirror_mode": {
    "name": "ipython",
    "version": 3
   },
   "file_extension": ".py",
   "mimetype": "text/x-python",
   "name": "python",
   "nbconvert_exporter": "python",
   "pygments_lexer": "ipython3",
   "version": "3.7.1"
  }
 },
 "nbformat": 4,
 "nbformat_minor": 2
}
