{
 "cells": [
  {
   "cell_type": "markdown",
   "metadata": {},
   "source": [
    "### Solution to challenge 1\n",
    "**Write a function which shows how much time is left in this session.**\n",
    "<br>\n",
    "<br>\n",
    "Sessions are from 5:30 - 8pm every Thursday in February 2019 and 5:30 - 8pm Wednesday from March onwards.\n",
    "<br>\n",
    "Remember that the syntax for a *user-defined function* is:\n",
    "\n",
    "    def my_function():\n",
    "        execute this command\n",
    "\n",
    "You were given a hint that you could use the date.combine method to solve the challenge.\n",
    "<br>\n",
    "Looking at the datetime documentation, the [datetime.combine](https://docs.python.org/3/library/datetime.html) method takes up to 3 arguments.\n",
    "\n",
    "     classmethod datetime.combine(date, time, tzinfo=self.tzinfo)\n",
    "\n",
    "     Return a new datetime object whose date components are equal to the given date object’s, \n",
    "     and whose time components are equal to the given time object’s. \n",
    "     If the tzinfo argument is provided, its value is used to set the tzinfo attribute of the result, \n",
    "     otherwise the tzinfo attribute of the time argument is used.\n",
    "\n",
    "     For any datetime object d, d == datetime.combine(d.date(), d.time(), d.tzinfo). \n",
    "     If date is a datetime object, its time components and tzinfo attributes are ignored.\n",
    "\n",
    "In other words, datetime.combine can be used to return a new object with a time and date that you specify.\n",
    "<br>\n",
    "So we can make a new variable called time_finish = date.combine(datetime.today(),time(20))\n",
    "<br>\n",
    "The number 20 just refers to 24 hour time, 20:00 = 8pm\n",
    "<br>\n",
    "We make another variable called time_now = datetime.now()\n",
    "<br>\n",
    "Finally, to get the console to print how much time is left in the session (or how much time between now and 8pm of the same day), use the print() command."
   ]
  },
  {
   "cell_type": "code",
   "execution_count": null,
   "metadata": {},
   "outputs": [],
   "source": [
    "from datetime import datetime, date, time, timedelta"
   ]
  },
  {
   "cell_type": "code",
   "execution_count": null,
   "metadata": {},
   "outputs": [],
   "source": [
    "def show_time_left():\n",
    "    time_finish = datetime.combine(datetime.today(), time(20))\n",
    "    time_now = datetime.now()\n",
    "    print(\"Time left in the session is \", time_finish - time_now)"
   ]
  },
  {
   "cell_type": "markdown",
   "metadata": {},
   "source": [
    "Remember that we have only defined a function, we need to use the function's name to call on it."
   ]
  },
  {
   "cell_type": "code",
   "execution_count": null,
   "metadata": {},
   "outputs": [],
   "source": [
    "show_time_left()"
   ]
  },
  {
   "cell_type": "markdown",
   "metadata": {},
   "source": [
    "### Solution to Challenge 2\n",
    "**Write a function which returns a datetime object for the same time as now but tomorrow**\n",
    "<br>\n",
    "<br>\n",
    "We are given the hint that we can use timedelta(days=1) to solve this challenge.\n",
    "<br>\n",
    "Looking at the datetime documentation, we see that timedelta is:\n",
    "\n",
    "    A timedelta object represents a duration, the difference between two dates or times.\n",
    "\n",
    "    datetime.timedelta(days=0, seconds=0, microseconds=0, milliseconds=0, minutes=0, hours=0, weeks=0)\n",
    "\n",
    "    All arguments are optional and default to 0. \n",
    "    Arguments may be integers or floats, and may be positive or negative.\n",
    "\n",
    "From this we can see that the timedelta object takes in 7 optional arguments. \n",
    "<br>\n",
    "We can use timedelta to add an extra day to datetime.now() by making a new variable with the timedelta object and using the first argument *days* to add  an extra day to our current time. \n",
    "<br>\n",
    "So first define a function *same_time_tomorrow():*\n",
    "<br>\n",
    "You can add a docstring to help you remember what the function does, this is optional.\n",
    "<br>\n",
    "Then make a variable for the time right now\n",
    "<br>\n",
    "time_today = datetime.now()\n",
    "<br>\n",
    "Then make a variable for your timedelta obejct to be 1 whole day\n",
    "<br>\n",
    "one_day = timedelta(days=1)\n",
    "<br>\n",
    "by only specificing the days argument, all the other arguments default setting is = 0\n",
    "<br>\n",
    "then make a new variable to add the previous two objects together.\n",
    "<br>\n",
    "time_tomorrow = time_today + one_day\n",
    "<br>\n",
    "Then tell the function to return the value of time_tomorrow by using the return statement\n",
    "<br>\n",
    "return time_tomorrow()\n",
    "<br>\n",
    "Finally if you want to print the result of the function to the console, use the print() function"
   ]
  },
  {
   "cell_type": "code",
   "execution_count": null,
   "metadata": {},
   "outputs": [],
   "source": [
    "def same_time_tomorrow():\n",
    "    \n",
    "    \"\"\"Returns the date and time one day after this function is called.\n",
    "    The return result is a datetime.datetime object\"\"\"\n",
    "    \n",
    "    time_today = datetime.now()\n",
    "    one_day = timedelta(days=1)\n",
    "    time_tomorrow = time_today + one_day\n",
    "    return time_tomorrow"
   ]
  },
  {
   "cell_type": "code",
   "execution_count": null,
   "metadata": {},
   "outputs": [],
   "source": [
    "print(\"Same time tomorrow is\", same_time_tomorrow())"
   ]
  },
  {
   "cell_type": "markdown",
   "metadata": {},
   "source": [
    "Docstrings are not the same as comments in python scripts. \n",
    "<br> \n",
    "They can be called on, for instance when we use the help() function or use them in [doctests](https://docs.python.org/3/library/doctest.html#module-doctest)."
   ]
  },
  {
   "cell_type": "code",
   "execution_count": null,
   "metadata": {},
   "outputs": [],
   "source": [
    "help(same_time_tomorrow)"
   ]
  },
  {
   "cell_type": "markdown",
   "metadata": {},
   "source": [
    "### Solution to challenge 3\n",
    "**Write a function which returns the time in seconds as a string in minutes and seconds**\n",
    "<br>\n",
    "<br>\n",
    "For example, we want to write a function that will change the string str_min_sec(-80) to \"-1:20\"\n",
    "<br>\n",
    "First we need to define a function that takes seconds as its parameter\n",
    "<br>\n",
    "def str_min_sec(seconds):\n",
    "<br>\n",
    "<br>\n",
    "Once again, insert docstrings using \"\"\" explanation of what your function does \"\"\" . It is optional but useful for youself and other users later.\n",
    "<br>\n",
    "<br>\n",
    "First we need to create a variable for the signs for + and -\n",
    "<br>\n",
    "sign = ' ' for when the seconds parameter is positive\n",
    "<br>\n",
    "Then we can create an if statement to account for times when the seconds parameter is negative\n",
    "<br>\n",
    "Finally, we want the function to return a result in the [format of a string](https://docs.python.org/3/library/string.html#formatstrings) that will display a negative sign if the seconds parameter is negative, otherwise we want the function to return it in minutes and seconds. \n",
    "<br>\n",
    "The [str.format()](https://docs.python.org/3/library/stdtypes.html#str.format) method allows us to format the string in a particular way.\n",
    "\n",
    "        Format strings contain “replacement fields” surrounded by curly braces {}. \n",
    "        Anything that is not contained in braces is considered literal text, which is copied unchanged to the output. \n",
    "        If you need to include a brace character in the literal text, it can be escaped by doubling: {{ and }}.\n",
    "        \n",
    "\n",
    "So first put the thing we want to replace in quotations \"this is a string\"\n",
    "<br>\n",
    "then use { } every time you want to replace it with something else followed by the .format(first value, second value)\n",
    "<br>\n",
    "For example:"
   ]
  },
  {
   "cell_type": "code",
   "execution_count": null,
   "metadata": {},
   "outputs": [],
   "source": [
    "a = \"Annie\"\n",
    "b = \"organiser\"\n",
    "formatting_strings = \"Hello my name is {}, I am the {}.\".format(a,b)\n",
    "\n",
    "print(formatting_strings)"
   ]
  },
  {
   "cell_type": "markdown",
   "metadata": {},
   "source": [
    "In the case of our function, we want to replace -80 seconds with -1:20 seconds\n",
    "<br>9\n",
    "So we have three things to define, the sign (positive or negative), the minute and the seconds\n",
    "<br>\n",
    "hence the format:\n",
    "        \n",
    "        \"{}{}:{}\".format(sign, seconds // 60, seconds % 60)\n",
    "\n",
    "The floor division operator // rounds down to the next whole number.\n",
    "<br>\n",
    "For example 7//2 = 3\n",
    "<br>\n",
    "The modulus gives you the remiander of an operation\n",
    "<br>\n",
    "For example 7%2 = 1\n",
    "<br>\n",
    "Hence, we can use the format of -80 seconds // 60, -80 % 60\n",
    "<br>\n",
    "whcih means use floor divison on 80 seconds, then use the remainder (making sure that it divides into 60 seconds)\n",
    "<br>\n",
    "The third braces contains some extra formating. \n",
    "<br>\n",
    "{:0>2} refers to "
   ]
  },
  {
   "cell_type": "code",
   "execution_count": null,
   "metadata": {},
   "outputs": [],
   "source": [
    "def str_min_sec(seconds):\n",
    "    \"\"\" Converts seconds into minutes and seconds and returns result as a str\n",
    "    Example: str_min_sec(-80) returns '-1:20' \"\"\"\n",
    "    sign = ''\n",
    "    if seconds < 0:\n",
    "        sign = '-'\n",
    "        seconds = -seconds\n",
    "    return \"{}{}:{:0>2}\".format(sign, seconds // 60, seconds % 60)"
   ]
  },
  {
   "cell_type": "markdown",
   "metadata": {},
   "source": [
    "Now test if the function works"
   ]
  },
  {
   "cell_type": "code",
   "execution_count": null,
   "metadata": {},
   "outputs": [],
   "source": [
    "print(40, str_min_sec(40))\n",
    "print(80, str_min_sec(80))\n",
    "print(3601, str_min_sec(3601))\n",
    "print(-80, str_min_sec(-80))\n",
    "print(-40, str_min_sec(-40))"
   ]
  },
  {
   "cell_type": "markdown",
   "metadata": {},
   "source": [
    "### Solution to challenge 4\n",
    "**Write a function which returns price including GST given price excluding GST and GST rate. Return the result as a decimal.Decimal with two decimal places**\n",
    "<br>\n",
    "<br>\n",
    "Did you know functions can take in more than one parameter?\n",
    "<br>\n",
    "Previously, the function str_min_sec(seconds) only took in one parameter and that is seconds.\n",
    "<br>\n",
    "For the next function, we want to take in two parameters:\n",
    "<br>\n",
    "the price excluding gst and the gst rate\n",
    "<br>\n",
    "Then we want the function to return a value that is the price including gst\n",
    "<br>\n",
    "<br>\n",
    "We are given the Hint: Decimal method quantize(D(\"0.01\")) rounds to two decimal places\n",
    "<br>\n",
    "<br>\n",
    "First, import the [Decimal](https://docs.python.org/3/library/decimal.html#decimal.Decimal) module from the [decimal](https://docs.python.org/3/library/decimal.html) library"
   ]
  },
  {
   "cell_type": "code",
   "execution_count": null,
   "metadata": {},
   "outputs": [],
   "source": [
    "from decimal import Decimal"
   ]
  },
  {
   "cell_type": "markdown",
   "metadata": {},
   "source": [
    "Every time you import an entire library without specific modules, you will need to refer to the library to use the function in the module.\n",
    "<br>       \n",
    "that is, if you use:\n",
    "<br>\n",
    "import datetime\n",
    "<br>\n",
    "or \n",
    "<br>\n",
    "from datetime import *\n",
    "<br>\n",
    "Then every time you want to use any function you must specify the library.module.function()\n",
    "<br>\n",
    "<br>\n",
    "On the other hand, if you imported selected modules from a library then you only need to refer to the module when you use the functions later.\n",
    "<br>\n",
    "That is, if you use:\n",
    "<br>\n",
    "from datetime import date\n",
    "<br>\n",
    "Then later when you want to use the date module, you will only need to specify the module.function()"
   ]
  },
  {
   "cell_type": "markdown",
   "metadata": {},
   "source": [
    "So define a function that takes in two parameters using the format:\n",
    "<br>\n",
    "        \n",
    "        def my_function(first parameter, second parameter):\n",
    "            multiply_operation = first paramater * second paramater\n",
    "            return multiply_operation\n",
    "\n",
    "The above is an example of how you can format your *user defined dunction* with more than one parameter."
   ]
  },
  {
   "cell_type": "code",
   "execution_count": null,
   "metadata": {},
   "outputs": [],
   "source": [
    "def price_incl_gst(price_excl_gst, gst_rate=0.0):\n",
    "    return round(Decimal(price_excl_gst * (1 + gst_rate)), 2)"
   ]
  },
  {
   "cell_type": "markdown",
   "metadata": {},
   "source": [
    "In the return line above, we have used the function Decimal from the decimal library to [round()](https://docs.python.org/3.7/library/functions.html#round) (a built-in function in python) a number, to 2 decimal places.\n",
    "If you want, change the number 2 to 5 and see what happens.\n",
    "<br>\n",
    "Now test your function!"
   ]
  },
  {
   "cell_type": "code",
   "execution_count": null,
   "metadata": {},
   "outputs": [],
   "source": [
    "print(\"The item costs $5.99 without GST, but it's total price with 12% GST is \", price_incl_gst(5.99,0.12))"
   ]
  },
  {
   "cell_type": "markdown",
   "metadata": {},
   "source": [
    "Your reward for reading all the way to the end is an extra function to count down the time to the next sesion!\n",
    "<br>\n",
    "😄 \n",
    "<br>\n",
    "See you at the next session!"
   ]
  },
  {
   "cell_type": "code",
   "execution_count": null,
   "metadata": {},
   "outputs": [],
   "source": [
    "def time_to_next_session():\n",
    "    next_session = datetime(2019,2,21,hour=17,minute=30)\n",
    "    time_now = datetime.now()\n",
    "    time_to_next_sess = next_session - time_now\n",
    "    print(\"The time left until the start of the next Beginners' Python Support Session is \", time_to_next_sess)\n",
    "\n",
    "time_to_next_session()"
   ]
  }
 ],
 "metadata": {
  "kernelspec": {
   "display_name": "Python 3",
   "language": "python",
   "name": "python3"
  },
  "language_info": {
   "codemirror_mode": {
    "name": "ipython",
    "version": 3
   },
   "file_extension": ".py",
   "mimetype": "text/x-python",
   "name": "python",
   "nbconvert_exporter": "python",
   "pygments_lexer": "ipython3",
   "version": "3.7.1"
  }
 },
 "nbformat": 4,
 "nbformat_minor": 2
}
