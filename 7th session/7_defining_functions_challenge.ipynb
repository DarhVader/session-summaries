{
 "cells": [
  {
   "cell_type": "markdown",
   "metadata": {},
   "source": [
    "In session 7 and 8 we will be working on defining functions.\n",
    "<br>\n",
    "<br>\n",
    "A function is a piece of code written to carry out a specified task.\n",
    "<br>\n",
    "<br>\n",
    "You may be already familiar with [python's built in functions](https://docs.python.org/3/library/functions.html) such as print(), str(), help() etc.,\n",
    "<br>\n",
    "but you can also define your own functions, these are called *user-defined functions*\n",
    "<br>\n",
    "<br>\n",
    "The syntax for defining your own fucntion is by using the term def for define\n",
    "<br>\n",
    "\n",
    "        def name_of_function():\n",
    "            execute command\n",
    "<br>\n",
    "To call on your function simply type the name of the function\n",
    "<br>\n",
    "<br>\n",
    "name_of_function()\n",
    "<br>\n",
    "<br>\n",
    "A very easy to understand and interactive tutorial to prepare you for this session's challenge can be found at [DataCamp](https://www.datacamp.com/community/tutorials/functions-python-tutorial)."
   ]
  },
  {
   "cell_type": "markdown",
   "metadata": {},
   "source": [
    "In the first exercise, we will be using the python built-in library [datetime](https://docs.python.org/3/library/datetime.html)\n",
    "<br>\n",
    "The datetime library has a few modules such as datetime, calendar and time; furthermore, these modules have a number of functions that we can call on.\n",
    "<br>\n",
    "So when we type in datetime.datetime.date into the editor and click Run in an IDE,\n",
    "<br>\n",
    "what we are doing is telling python to look in the datetime library for a module called datetime and then a function called date.\n",
    "<br>\n",
    "<br>\n",
    "First, we need to import a few modules to use their functions.\n",
    "<br>\n",
    "You can import an entire library by typing in import library_name * \n",
    "<br>\n",
    "but this is not recommended as you may not know all the functions you are importing and may end up experiencing complications later on. \n",
    "<br>\n",
    "So for best practice, only import what you need."
   ]
  },
  {
   "cell_type": "code",
   "execution_count": 1,
   "metadata": {},
   "outputs": [],
   "source": [
    "from datetime import datetime, time, timedelta"
   ]
  },
  {
   "cell_type": "markdown",
   "metadata": {},
   "source": [
    "The function datetime.now.time is a very useful function that tells us the time the instant that we run the function."
   ]
  },
  {
   "cell_type": "code",
   "execution_count": 2,
   "metadata": {},
   "outputs": [],
   "source": [
    "def show_now():\n",
    "    time_now = datetime.now().time()\n",
    "    print(\"The time is now\", time_now)"
   ]
  },
  {
   "cell_type": "markdown",
   "metadata": {},
   "source": [
    "Remember, you have just defined the function, you need to call on the function by using its name"
   ]
  },
  {
   "cell_type": "code",
   "execution_count": 3,
   "metadata": {},
   "outputs": [
    {
     "name": "stdout",
     "output_type": "stream",
     "text": [
      "The time is now 16:45:13.841709\n"
     ]
    }
   ],
   "source": [
    "show_now()"
   ]
  },
  {
   "cell_type": "markdown",
   "metadata": {},
   "source": [
    "<br>\n",
    "## The Challenge is to:\n",
    "### 1. Write a function which shows how much time is left in this session\n",
    "Hint: datetime.combine(dt1, dt2) combines date from dt1 with time from dt2\n",
    "<br>\n",
    "Hint: Time 8pm  time(hour=20)"
   ]
  },
  {
   "cell_type": "markdown",
   "metadata": {},
   "source": [
    "### 2. Write a function which returns a datetime object for the same time as now but tomorrow\n",
    "Hint: timedelta(days=1)"
   ]
  },
  {
   "cell_type": "markdown",
   "metadata": {},
   "source": [
    "### 3. Write a function which returns the time in seconds as a str in minutes and seconds\n",
    "Example str_min_sec(80) -> \"1:20\"\n",
    "<br>\n",
    "<br>\n",
    "Example str_min_sec(40) -> \"0:40\"\n",
    "<br>\n",
    "<br>\n",
    "Example str_min_sec(3601) -> \"60:01\"\n",
    "<br>\n",
    "<br>\n",
    "Example str_min_sec(-80) -> \"-1:20\"\n",
    "<br>\n",
    "<br>\n",
    "Example str_min_sec(-40) -> \"-0:40\""
   ]
  },
  {
   "cell_type": "markdown",
   "metadata": {},
   "source": [
    "### 4. Write a function which returns price including GST given price excluding GST and GST rate. Return the result as a decimal.Decimal with two decimal places\n",
    "Hint: Decimal method quantize(D(\"0.01\")) rounds to two decimal places"
   ]
  },
  {
   "cell_type": "markdown",
   "metadata": {},
   "source": [
    "Good luck, and don't forget to read the [datetime documentation!](https://docs.python.org/3/library/datetime.html)"
   ]
  }
 ],
 "metadata": {
  "kernelspec": {
   "display_name": "Python 3",
   "language": "python",
   "name": "python3"
  },
  "language_info": {
   "codemirror_mode": {
    "name": "ipython",
    "version": 3
   },
   "file_extension": ".py",
   "mimetype": "text/x-python",
   "name": "python",
   "nbconvert_exporter": "python",
   "pygments_lexer": "ipython3",
   "version": "3.7.1"
  }
 },
 "nbformat": 4,
 "nbformat_minor": 2
}
